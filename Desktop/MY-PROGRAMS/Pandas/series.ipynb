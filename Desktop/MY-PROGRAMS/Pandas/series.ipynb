{
 "cells": [
  {
   "cell_type": "code",
   "execution_count": 1,
   "id": "3b81a3b9",
   "metadata": {},
   "outputs": [
    {
     "name": "stdout",
     "output_type": "stream",
     "text": [
      "5\n"
     ]
    }
   ],
   "source": [
    "print(2+3)"
   ]
  },
  {
   "cell_type": "code",
   "execution_count": 2,
   "id": "6883b457",
   "metadata": {},
   "outputs": [
    {
     "data": {
      "text/plain": [
       "5"
      ]
     },
     "execution_count": 2,
     "metadata": {},
     "output_type": "execute_result"
    }
   ],
   "source": [
    "2+3"
   ]
  },
  {
   "cell_type": "code",
   "execution_count": 5,
   "id": "6521486c",
   "metadata": {},
   "outputs": [],
   "source": [
    "from pandas import Series\n",
    "se=Series([3,5,7,9])\n"
   ]
  },
  {
   "cell_type": "code",
   "execution_count": 6,
   "id": "02ff2024",
   "metadata": {},
   "outputs": [
    {
     "data": {
      "text/plain": [
       "0    3\n",
       "1    5\n",
       "2    7\n",
       "3    9\n",
       "dtype: int64"
      ]
     },
     "execution_count": 6,
     "metadata": {},
     "output_type": "execute_result"
    }
   ],
   "source": [
    "se"
   ]
  },
  {
   "cell_type": "code",
   "execution_count": 7,
   "id": "7f6a0a2f",
   "metadata": {},
   "outputs": [
    {
     "data": {
      "text/plain": [
       "7"
      ]
     },
     "execution_count": 7,
     "metadata": {},
     "output_type": "execute_result"
    }
   ],
   "source": [
    "se[2]"
   ]
  },
  {
   "cell_type": "code",
   "execution_count": 9,
   "id": "e841f95f",
   "metadata": {},
   "outputs": [
    {
     "data": {
      "text/plain": [
       "a    100\n",
       "b    200\n",
       "c    300\n",
       "dtype: int64"
      ]
     },
     "execution_count": 9,
     "metadata": {},
     "output_type": "execute_result"
    }
   ],
   "source": [
    "se2=Series([100,200,300],index=['a','b','c'])\n",
    "se2"
   ]
  },
  {
   "cell_type": "code",
   "execution_count": 10,
   "id": "7924bd8c",
   "metadata": {},
   "outputs": [
    {
     "data": {
      "text/plain": [
       "200"
      ]
     },
     "execution_count": 10,
     "metadata": {},
     "output_type": "execute_result"
    }
   ],
   "source": [
    "se2['b']"
   ]
  },
  {
   "cell_type": "code",
   "execution_count": 11,
   "id": "350b1c69",
   "metadata": {},
   "outputs": [],
   "source": [
    "salary={'john':1000,'jaffer':2000,'janardhanan':3000}"
   ]
  },
  {
   "cell_type": "code",
   "execution_count": 12,
   "id": "8393c470",
   "metadata": {},
   "outputs": [
    {
     "data": {
      "text/plain": [
       "{'john': 1000, 'jaffer': 2000, 'janardhanan': 3000}"
      ]
     },
     "execution_count": 12,
     "metadata": {},
     "output_type": "execute_result"
    }
   ],
   "source": [
    "salary"
   ]
  },
  {
   "cell_type": "code",
   "execution_count": 13,
   "id": "c2bd4ecd",
   "metadata": {},
   "outputs": [],
   "source": [
    "se3=Series(salary)"
   ]
  },
  {
   "cell_type": "code",
   "execution_count": 14,
   "id": "e4035cbb",
   "metadata": {},
   "outputs": [
    {
     "data": {
      "text/plain": [
       "john           1000\n",
       "jaffer         2000\n",
       "janardhanan    3000\n",
       "dtype: int64"
      ]
     },
     "execution_count": 14,
     "metadata": {},
     "output_type": "execute_result"
    }
   ],
   "source": [
    "se3"
   ]
  },
  {
   "cell_type": "code",
   "execution_count": 15,
   "id": "6c9f69ac",
   "metadata": {},
   "outputs": [
    {
     "data": {
      "text/plain": [
       "1000"
      ]
     },
     "execution_count": 15,
     "metadata": {},
     "output_type": "execute_result"
    }
   ],
   "source": [
    "se3['john']"
   ]
  },
  {
   "cell_type": "code",
   "execution_count": null,
   "id": "d543e0f3",
   "metadata": {},
   "outputs": [],
   "source": []
  }
 ],
 "metadata": {
  "kernelspec": {
   "display_name": "Python 3",
   "language": "python",
   "name": "python3"
  },
  "language_info": {
   "codemirror_mode": {
    "name": "ipython",
    "version": 3
   },
   "file_extension": ".py",
   "mimetype": "text/x-python",
   "name": "python",
   "nbconvert_exporter": "python",
   "pygments_lexer": "ipython3",
   "version": "3.8.8"
  }
 },
 "nbformat": 4,
 "nbformat_minor": 5
}
