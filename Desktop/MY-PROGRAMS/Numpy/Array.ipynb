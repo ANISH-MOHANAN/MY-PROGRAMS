{
 "cells": [
  {
   "cell_type": "code",
   "execution_count": 1,
   "id": "07609c8c",
   "metadata": {},
   "outputs": [],
   "source": [
    "import numpy"
   ]
  },
  {
   "cell_type": "code",
   "execution_count": 2,
   "id": "65b37595",
   "metadata": {},
   "outputs": [],
   "source": [
    "x=numpy.array([11,22,33,44])"
   ]
  },
  {
   "cell_type": "code",
   "execution_count": 3,
   "id": "c18c6d4a",
   "metadata": {},
   "outputs": [
    {
     "data": {
      "text/plain": [
       "array([11, 22, 33, 44])"
      ]
     },
     "execution_count": 3,
     "metadata": {},
     "output_type": "execute_result"
    }
   ],
   "source": [
    "x"
   ]
  },
  {
   "cell_type": "code",
   "execution_count": 4,
   "id": "cc47e8d7",
   "metadata": {},
   "outputs": [
    {
     "name": "stdout",
     "output_type": "stream",
     "text": [
      "[11 22 33 44]\n"
     ]
    }
   ],
   "source": [
    "print(x)"
   ]
  },
  {
   "cell_type": "code",
   "execution_count": 5,
   "id": "cbc3d785",
   "metadata": {},
   "outputs": [],
   "source": [
    "import numpy as np"
   ]
  },
  {
   "cell_type": "code",
   "execution_count": 6,
   "id": "0cc86159",
   "metadata": {},
   "outputs": [],
   "source": [
    "y=np.array([100,200,300])"
   ]
  },
  {
   "cell_type": "code",
   "execution_count": 7,
   "id": "a482d3ac",
   "metadata": {},
   "outputs": [
    {
     "name": "stdout",
     "output_type": "stream",
     "text": [
      "[100 200 300]\n"
     ]
    }
   ],
   "source": [
    "print(y)"
   ]
  },
  {
   "cell_type": "code",
   "execution_count": 8,
   "id": "a504ea92",
   "metadata": {},
   "outputs": [
    {
     "name": "stdout",
     "output_type": "stream",
     "text": [
      "1.20.1\n"
     ]
    }
   ],
   "source": [
    "print(np.__version__)"
   ]
  },
  {
   "cell_type": "code",
   "execution_count": 10,
   "id": "97e0856f",
   "metadata": {},
   "outputs": [],
   "source": [
    "#using tuple"
   ]
  },
  {
   "cell_type": "code",
   "execution_count": 11,
   "id": "1eafe2cd",
   "metadata": {},
   "outputs": [],
   "source": [
    "z=np.array((50,60,70,80))"
   ]
  },
  {
   "cell_type": "code",
   "execution_count": 12,
   "id": "e12e9f45",
   "metadata": {},
   "outputs": [
    {
     "name": "stdout",
     "output_type": "stream",
     "text": [
      "[50 60 70 80]\n"
     ]
    }
   ],
   "source": [
    "print(z)"
   ]
  },
  {
   "cell_type": "code",
   "execution_count": 13,
   "id": "a4dc548d",
   "metadata": {},
   "outputs": [],
   "source": [
    "#two dimensional array"
   ]
  },
  {
   "cell_type": "code",
   "execution_count": 15,
   "id": "e3d0b41c",
   "metadata": {},
   "outputs": [],
   "source": [
    "x1=np.array([[1,2,3],[5,6,7]])"
   ]
  },
  {
   "cell_type": "code",
   "execution_count": 16,
   "id": "5b966104",
   "metadata": {},
   "outputs": [
    {
     "name": "stdout",
     "output_type": "stream",
     "text": [
      "[[1 2 3]\n",
      " [5 6 7]]\n"
     ]
    }
   ],
   "source": [
    "print(x1)"
   ]
  },
  {
   "cell_type": "code",
   "execution_count": 18,
   "id": "c685f3d2",
   "metadata": {},
   "outputs": [],
   "source": [
    "y1=np.array([[1,2,3],[4,5,6],[7,8,9]])"
   ]
  },
  {
   "cell_type": "code",
   "execution_count": 19,
   "id": "53ea1f81",
   "metadata": {},
   "outputs": [
    {
     "name": "stdout",
     "output_type": "stream",
     "text": [
      "[[1 2 3]\n",
      " [4 5 6]\n",
      " [7 8 9]]\n"
     ]
    }
   ],
   "source": [
    "print(y1)"
   ]
  },
  {
   "cell_type": "code",
   "execution_count": 20,
   "id": "721ae242",
   "metadata": {},
   "outputs": [],
   "source": [
    "#zero dimension"
   ]
  },
  {
   "cell_type": "code",
   "execution_count": 21,
   "id": "3d7f9147",
   "metadata": {},
   "outputs": [],
   "source": [
    "z1=np.array(56)"
   ]
  },
  {
   "cell_type": "code",
   "execution_count": 22,
   "id": "21c3b2a9",
   "metadata": {},
   "outputs": [
    {
     "name": "stdout",
     "output_type": "stream",
     "text": [
      "56\n"
     ]
    }
   ],
   "source": [
    "print(z1)"
   ]
  },
  {
   "cell_type": "code",
   "execution_count": 23,
   "id": "9499a412",
   "metadata": {},
   "outputs": [],
   "source": [
    "#to find dimension of array "
   ]
  },
  {
   "cell_type": "code",
   "execution_count": 25,
   "id": "9b1a01d5",
   "metadata": {},
   "outputs": [
    {
     "name": "stdout",
     "output_type": "stream",
     "text": [
      "0\n"
     ]
    }
   ],
   "source": [
    "print(z1.ndim)"
   ]
  },
  {
   "cell_type": "code",
   "execution_count": 26,
   "id": "4d0a9031",
   "metadata": {},
   "outputs": [
    {
     "name": "stdout",
     "output_type": "stream",
     "text": [
      "2\n"
     ]
    }
   ],
   "source": [
    "print(y1.ndim)"
   ]
  },
  {
   "cell_type": "code",
   "execution_count": 27,
   "id": "3222e501",
   "metadata": {},
   "outputs": [
    {
     "name": "stdout",
     "output_type": "stream",
     "text": [
      "2\n"
     ]
    }
   ],
   "source": [
    "print(x1.ndim)"
   ]
  },
  {
   "cell_type": "code",
   "execution_count": 28,
   "id": "46135308",
   "metadata": {},
   "outputs": [
    {
     "name": "stdout",
     "output_type": "stream",
     "text": [
      "1\n"
     ]
    }
   ],
   "source": [
    "print(z.ndim)"
   ]
  },
  {
   "cell_type": "code",
   "execution_count": 29,
   "id": "05c3eb6a",
   "metadata": {},
   "outputs": [],
   "source": [
    "#three dimensional array"
   ]
  },
  {
   "cell_type": "code",
   "execution_count": 30,
   "id": "0b1c5ba7",
   "metadata": {},
   "outputs": [],
   "source": [
    "q1=np.array([[[1,2,3],[5,6,7],[10,20,30],[50,60,70]]])"
   ]
  },
  {
   "cell_type": "code",
   "execution_count": 31,
   "id": "77e40e95",
   "metadata": {},
   "outputs": [
    {
     "name": "stdout",
     "output_type": "stream",
     "text": [
      "[[[ 1  2  3]\n",
      "  [ 5  6  7]\n",
      "  [10 20 30]\n",
      "  [50 60 70]]]\n"
     ]
    }
   ],
   "source": [
    "print(q1)"
   ]
  },
  {
   "cell_type": "code",
   "execution_count": 32,
   "id": "02ffbdae",
   "metadata": {},
   "outputs": [
    {
     "name": "stdout",
     "output_type": "stream",
     "text": [
      "3\n"
     ]
    }
   ],
   "source": [
    "print(q1.ndim)"
   ]
  },
  {
   "cell_type": "code",
   "execution_count": 33,
   "id": "cc8da3f8",
   "metadata": {},
   "outputs": [],
   "source": [
    "#array index"
   ]
  },
  {
   "cell_type": "code",
   "execution_count": 17,
   "id": "8e880bdb",
   "metadata": {},
   "outputs": [],
   "source": [
    "#one dimensional array index"
   ]
  },
  {
   "cell_type": "code",
   "execution_count": 34,
   "id": "21760114",
   "metadata": {},
   "outputs": [
    {
     "name": "stdout",
     "output_type": "stream",
     "text": [
      "[11 22 33 44]\n"
     ]
    }
   ],
   "source": [
    "print(x)"
   ]
  },
  {
   "cell_type": "code",
   "execution_count": 35,
   "id": "febec530",
   "metadata": {},
   "outputs": [
    {
     "name": "stdout",
     "output_type": "stream",
     "text": [
      "33\n"
     ]
    }
   ],
   "source": [
    "print(x[2])"
   ]
  },
  {
   "cell_type": "code",
   "execution_count": null,
   "id": "968a12bf",
   "metadata": {},
   "outputs": [],
   "source": [
    "#two dimensional array index"
   ]
  },
  {
   "cell_type": "code",
   "execution_count": 36,
   "id": "a2966f13",
   "metadata": {},
   "outputs": [
    {
     "name": "stdout",
     "output_type": "stream",
     "text": [
      "[[1 2 3]\n",
      " [5 6 7]]\n"
     ]
    }
   ],
   "source": [
    "print(x1)"
   ]
  },
  {
   "cell_type": "code",
   "execution_count": 37,
   "id": "3aec8adc",
   "metadata": {},
   "outputs": [
    {
     "name": "stdout",
     "output_type": "stream",
     "text": [
      "3\n"
     ]
    }
   ],
   "source": [
    "print(x1[0,2])"
   ]
  },
  {
   "cell_type": "code",
   "execution_count": 38,
   "id": "244babf5",
   "metadata": {},
   "outputs": [
    {
     "name": "stdout",
     "output_type": "stream",
     "text": [
      "6\n"
     ]
    }
   ],
   "source": [
    "print(x1[1,1])"
   ]
  },
  {
   "cell_type": "code",
   "execution_count": 39,
   "id": "6e41bf38",
   "metadata": {},
   "outputs": [],
   "source": [
    "#three dimensional array index"
   ]
  },
  {
   "cell_type": "code",
   "execution_count": 42,
   "id": "313db26f",
   "metadata": {},
   "outputs": [],
   "source": [
    "w=np.array([[[12,13,14],[15,16,17]],[[10,11,12],[9,8,7]]])"
   ]
  },
  {
   "cell_type": "code",
   "execution_count": 44,
   "id": "0ceda0e6",
   "metadata": {},
   "outputs": [
    {
     "name": "stdout",
     "output_type": "stream",
     "text": [
      "[[[12 13 14]\n",
      "  [15 16 17]]\n",
      "\n",
      " [[10 11 12]\n",
      "  [ 9  8  7]]]\n"
     ]
    }
   ],
   "source": [
    "print(w)"
   ]
  },
  {
   "cell_type": "code",
   "execution_count": 45,
   "id": "774be320",
   "metadata": {},
   "outputs": [
    {
     "name": "stdout",
     "output_type": "stream",
     "text": [
      "17\n"
     ]
    }
   ],
   "source": [
    "print(w[0,1,2])"
   ]
  },
  {
   "cell_type": "code",
   "execution_count": 46,
   "id": "c0a854a8",
   "metadata": {},
   "outputs": [
    {
     "name": "stdout",
     "output_type": "stream",
     "text": [
      "8\n"
     ]
    }
   ],
   "source": [
    "print(w[1,1,1,])"
   ]
  },
  {
   "cell_type": "code",
   "execution_count": null,
   "id": "350defe1",
   "metadata": {},
   "outputs": [],
   "source": []
  }
 ],
 "metadata": {
  "kernelspec": {
   "display_name": "Python 3",
   "language": "python",
   "name": "python3"
  },
  "language_info": {
   "codemirror_mode": {
    "name": "ipython",
    "version": 3
   },
   "file_extension": ".py",
   "mimetype": "text/x-python",
   "name": "python",
   "nbconvert_exporter": "python",
   "pygments_lexer": "ipython3",
   "version": "3.8.8"
  }
 },
 "nbformat": 4,
 "nbformat_minor": 5
}
